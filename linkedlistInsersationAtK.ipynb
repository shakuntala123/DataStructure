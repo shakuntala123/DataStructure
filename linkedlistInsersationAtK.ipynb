{
  "nbformat": 4,
  "nbformat_minor": 0,
  "metadata": {
    "colab": {
      "provenance": [],
      "authorship_tag": "ABX9TyOJ3bI+jK6rlnZbdwUL02cR",
      "include_colab_link": true
    },
    "kernelspec": {
      "name": "python3",
      "display_name": "Python 3"
    },
    "language_info": {
      "name": "python"
    }
  },
  "cells": [
    {
      "cell_type": "markdown",
      "metadata": {
        "id": "view-in-github",
        "colab_type": "text"
      },
      "source": [
        "<a href=\"https://colab.research.google.com/github/shakuntala123/DataStructure/blob/main/linkedlistInsersationAtK.ipynb\" target=\"_parent\"><img src=\"https://colab.research.google.com/assets/colab-badge.svg\" alt=\"Open In Colab\"/></a>"
      ]
    },
    {
      "cell_type": "code",
      "source": [
        "class SinglyLinkedListNode:\n",
        "    def __init__(self, data):\n",
        "        self.data = data\n",
        "        self.next = None\n",
        "\n",
        "def insertNodeAtPosition(head, data, position):\n",
        "    new_node = SinglyLinkedListNode(data)\n",
        "\n",
        "    # If the position is 0 or the list is empty, insert at the beginning\n",
        "    if position == 0 or not head:\n",
        "        new_node.next = head\n",
        "        return new_node\n",
        "\n",
        "    current = head\n",
        "    count = 0\n",
        "\n",
        "    # Traverse the list until we reach the node before the desired position\n",
        "    while current.next and count < position - 1:\n",
        "        current = current.next\n",
        "        count += 1\n",
        "\n",
        "    # Insert the new node between current and current.next\n",
        "    new_node.next = current.next\n",
        "    current.next = new_node\n",
        "\n",
        "    return head\n",
        "\n",
        "def printLinkedList(head):\n",
        "    current = head\n",
        "    while current:\n",
        "        print(current.data, end=\" -> \")\n",
        "        current = current.next\n",
        "    print(\"None\")\n",
        "\n",
        "# Create a linked list\n",
        "head = SinglyLinkedListNode(1)\n",
        "head.next = SinglyLinkedListNode(2)\n",
        "head.next.next = SinglyLinkedListNode(4)\n",
        "head.next.next.next = SinglyLinkedListNode(9)\n",
        "\n",
        "# Insert a new node at position 2 with data value 3\n",
        "data_to_insert = 3\n",
        "position_to_insert = 2\n",
        "head = insertNodeAtPosition(head, data_to_insert, position_to_insert)\n",
        "\n",
        "# Print the updated linked list\n",
        "print(\"Updated Linked List:\")\n",
        "printLinkedList(head)\n"
      ],
      "metadata": {
        "colab": {
          "base_uri": "https://localhost:8080/"
        },
        "id": "hDIQcq4x9tpW",
        "outputId": "478a4f1d-c67f-4786-f29b-538f9b31344e"
      },
      "execution_count": 4,
      "outputs": [
        {
          "output_type": "stream",
          "name": "stdout",
          "text": [
            "Updated Linked List:\n",
            "1 -> 2 -> 3 -> 4 -> 9 -> None\n"
          ]
        }
      ]
    }
  ]
}