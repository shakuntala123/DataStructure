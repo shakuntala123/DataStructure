{
  "nbformat": 4,
  "nbformat_minor": 0,
  "metadata": {
    "colab": {
      "provenance": [],
      "toc_visible": true,
      "authorship_tag": "ABX9TyPp+3RppfYnAIoB/pogBnLd",
      "include_colab_link": true
    },
    "kernelspec": {
      "name": "python3",
      "display_name": "Python 3"
    },
    "language_info": {
      "name": "python"
    }
  },
  "cells": [
    {
      "cell_type": "markdown",
      "metadata": {
        "id": "view-in-github",
        "colab_type": "text"
      },
      "source": [
        "<a href=\"https://colab.research.google.com/github/shakuntala123/DataStructure/blob/main/Untitled104.ipynb\" target=\"_parent\"><img src=\"https://colab.research.google.com/assets/colab-badge.svg\" alt=\"Open In Colab\"/></a>"
      ]
    },
    {
      "cell_type": "code",
      "execution_count": 1,
      "metadata": {
        "colab": {
          "base_uri": "https://localhost:8080/"
        },
        "id": "VithcttRMEi8",
        "outputId": "5769beef-5603-4793-e8a5-d7567b6bef56"
      },
      "outputs": [
        {
          "output_type": "stream",
          "name": "stdout",
          "text": [
            "1 2 3 4 5 6 7 8 "
          ]
        }
      ],
      "source": [
        "class SinglyLinkedListNode:\n",
        "    def __init__(self,data):\n",
        "        self.data = data\n",
        "        self.next = None\n",
        "\n",
        "def mergeLists(head1, head2):\n",
        "\n",
        "    if head1 is None:\n",
        "        return head2\n",
        "\n",
        "    if head2 is None :\n",
        "        return head1\n",
        "\n",
        "    if head1.data <= head2.data:\n",
        "        temp=head1\n",
        "        temp.next = mergeLists(head1.next,head2)\n",
        "    else :\n",
        "        temp=head2\n",
        "        temp.next = mergeLists(head1 ,head2.next)\n",
        "\n",
        "    return temp\n",
        "\n",
        "# function to create a linked list from a list of elements\n",
        "def create_linked_list(elements):\n",
        "    head = None\n",
        "    tail = None\n",
        "    for elem in elements:\n",
        "        new_node = SinglyLinkedListNode(elem)\n",
        "        if head is None:\n",
        "            head = new_node\n",
        "            tail = new_node\n",
        "        else:\n",
        "            tail.next = new_node\n",
        "            tail = new_node\n",
        "    return head\n",
        "\n",
        "\n",
        "listA = create_linked_list([1, 3, 5, 7])\n",
        "listB = create_linked_list([2, 4, 6, 8])\n",
        "merged_list = mergeLists(listA, listB)\n",
        "\n",
        "# Print the merged list\n",
        "while merged_list is not None:\n",
        "    print(merged_list.data, end=\" \")\n",
        "    merged_list = merged_list.next\n",
        "\n"
      ]
    }
  ]
}