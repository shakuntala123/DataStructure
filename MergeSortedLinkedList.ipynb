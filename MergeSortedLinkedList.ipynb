{
  "nbformat": 4,
  "nbformat_minor": 0,
  "metadata": {
    "colab": {
      "provenance": [],
      "authorship_tag": "ABX9TyNc1AOCHQDkT5nGV1uUG4eG",
      "include_colab_link": true
    },
    "kernelspec": {
      "name": "python3",
      "display_name": "Python 3"
    },
    "language_info": {
      "name": "python"
    }
  },
  "cells": [
    {
      "cell_type": "markdown",
      "metadata": {
        "id": "view-in-github",
        "colab_type": "text"
      },
      "source": [
        "<a href=\"https://colab.research.google.com/github/shakuntala123/DataStructure/blob/main/MergeSortedLinkedList.ipynb\" target=\"_parent\"><img src=\"https://colab.research.google.com/assets/colab-badge.svg\" alt=\"Open In Colab\"/></a>"
      ]
    },
    {
      "cell_type": "code",
      "source": [
        "class SinglyLinkedListNode:\n",
        "    def __init__(self,data):\n",
        "        self.data = data\n",
        "        self.next = None\n",
        "\n",
        "def mergeLists(head1, head2):\n",
        "\n",
        "    temp = SinglyLinkedListNode(None)\n",
        "    current = temp\n",
        "\n",
        "    while head1 is not None and head2 is not None:\n",
        "        if head1.data <= head2.data:\n",
        "            current.next = head1\n",
        "            head1 = head1.next\n",
        "\n",
        "        else :\n",
        "            current.next = head2\n",
        "            head2 = head2.next\n",
        "\n",
        "        current = current.next\n",
        "\n",
        "    if head1 is not None:\n",
        "       current.next = head1\n",
        "\n",
        "    else :\n",
        "        current.next = head2\n",
        "\n",
        "    return temp.next\n",
        "\n",
        "# function to create a linked list from a list of elements\n",
        "def create_linked_list():\n",
        "    elements = list(map(int, input(\"Enter elements for the linked list: \").split()))\n",
        "    head = None\n",
        "    tail = None\n",
        "    for elem in elements:\n",
        "        new_node = SinglyLinkedListNode(elem)\n",
        "        if head is None:\n",
        "            head = new_node\n",
        "            tail = new_node\n",
        "        else:\n",
        "            tail.next = new_node\n",
        "            tail = new_node\n",
        "    return head\n",
        "\n",
        "\n",
        "# Get user input to create linked list 1 and 2\n",
        "print(\"Create Linked List A:\")\n",
        "list1 = create_linked_list()\n",
        "\n",
        "print(\"\\nCreate Linked List B:\")\n",
        "list2 = create_linked_list()\n",
        "\n",
        "# Merge the lists\n",
        "merged_list = mergeLists(list1, list2)\n",
        "# Print the merged list\n",
        "while merged_list is not None:\n",
        "    print(merged_list.data, end=\" \")\n",
        "    merged_list = merged_list.next"
      ],
      "metadata": {
        "colab": {
          "base_uri": "https://localhost:8080/"
        },
        "id": "Dm4u87psQI1B",
        "outputId": "586be321-efa9-455e-fe87-9678419336ff"
      },
      "execution_count": 4,
      "outputs": [
        {
          "output_type": "stream",
          "name": "stdout",
          "text": [
            "Create Linked List A:\n",
            "Enter elements for the linked list: 4 7 9\n",
            "\n",
            "Create Linked List B:\n",
            "Enter elements for the linked list: 3 5 6\n",
            "3 4 5 6 7 9 "
          ]
        }
      ]
    }
  ]
}