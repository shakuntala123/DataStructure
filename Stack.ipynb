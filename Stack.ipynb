{
  "nbformat": 4,
  "nbformat_minor": 0,
  "metadata": {
    "colab": {
      "provenance": [],
      "authorship_tag": "ABX9TyPzmllYdN3SmdBUBi3lSsXx",
      "include_colab_link": true
    },
    "kernelspec": {
      "name": "python3",
      "display_name": "Python 3"
    },
    "language_info": {
      "name": "python"
    }
  },
  "cells": [
    {
      "cell_type": "markdown",
      "metadata": {
        "id": "view-in-github",
        "colab_type": "text"
      },
      "source": [
        "<a href=\"https://colab.research.google.com/github/shakuntala123/DataStructure/blob/main/Stack.ipynb\" target=\"_parent\"><img src=\"https://colab.research.google.com/assets/colab-badge.svg\" alt=\"Open In Colab\"/></a>"
      ]
    },
    {
      "cell_type": "code",
      "execution_count": 5,
      "metadata": {
        "colab": {
          "base_uri": "https://localhost:8080/"
        },
        "id": "r_odCwK9PLBQ",
        "outputId": "a3a1e414-c37f-47a6-f5d2-f681ed598ab2"
      },
      "outputs": [
        {
          "output_type": "stream",
          "name": "stdout",
          "text": [
            "['a', 'b']\n",
            "After deleting an element from the stack\n",
            "['a']\n",
            "Is Stack empty False\n"
          ]
        }
      ],
      "source": [
        "#Program to illustrate stack using list\n",
        "stack =[]\n",
        "stack.append('a')\n",
        "stack.append('b')\n",
        "print(stack)\n",
        "print(\"After deleting an element from the stack\")\n",
        "stack.pop()\n",
        "print(stack)\n",
        "#check whether the list is empty or not\n",
        "is_empty = len(stack)==0\n",
        "print(\"Is Stack empty: \" , is_empty)"
      ]
    }
  ]
}