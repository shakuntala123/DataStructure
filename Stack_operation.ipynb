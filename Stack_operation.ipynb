{
  "nbformat": 4,
  "nbformat_minor": 0,
  "metadata": {
    "colab": {
      "provenance": [],
      "authorship_tag": "ABX9TyOQ3xfVUpDFNoRYfPHk1SM/",
      "include_colab_link": true
    },
    "kernelspec": {
      "name": "python3",
      "display_name": "Python 3"
    },
    "language_info": {
      "name": "python"
    }
  },
  "cells": [
    {
      "cell_type": "markdown",
      "metadata": {
        "id": "view-in-github",
        "colab_type": "text"
      },
      "source": [
        "<a href=\"https://colab.research.google.com/github/shakuntala123/DataStructure/blob/main/Stack_operation.ipynb\" target=\"_parent\"><img src=\"https://colab.research.google.com/assets/colab-badge.svg\" alt=\"Open In Colab\"/></a>"
      ]
    },
    {
      "cell_type": "code",
      "execution_count": null,
      "metadata": {
        "colab": {
          "base_uri": "https://localhost:8080/"
        },
        "id": "NxwBxz-ZcspP",
        "outputId": "f5983ce5-fc3f-4ef0-d759-bfe425ef58d5"
      },
      "outputs": [
        {
          "metadata": {
            "tags": null
          },
          "name": "stdout",
          "output_type": "stream",
          "text": [
            "1. Add to stack\n",
            "2. Delete from stack\n",
            "3. Display stack\n",
            "4. Exit\n",
            "1. Add to stack\n",
            "2. Delete from stack\n",
            "3. Display stack\n",
            "4. Exit\n",
            "1. Add to stack\n",
            "2. Delete from stack\n",
            "3. Display stack\n",
            "4. Exit\n",
            "1. Add to stack\n",
            "2. Delete from stack\n",
            "3. Display stack\n",
            "4. Exit\n",
            "Element in the stack : ['a']\n",
            "1. Add to stack\n",
            "2. Delete from stack\n",
            "3. Display stack\n",
            "4. Exit\n",
            "Invalid choice. Please try again.\n",
            "1. Add to stack\n",
            "2. Delete from stack\n",
            "3. Display stack\n",
            "4. Exit\n"
          ]
        }
      ],
      "source": [
        "\n",
        "\n",
        "stack = []\n",
        "\n",
        "#adding element in the stack\n",
        "def push(value):\n",
        "     t = int(input(\"enter the number of element to add on the stack : \"))\n",
        "     for _ in range(t):\n",
        "         value =input(\"enter the value : \")\n",
        "         stack.append(value)\n",
        "\n",
        "def pop():\n",
        "    if len(stack)< 0:\n",
        "      print(\"stack is empty\")\n",
        "    stack.pop()\n",
        "\n",
        "def display():\n",
        "    if len(stack) < 0 :\n",
        "      print(\"stack is empty\")\n",
        "    print(\"Element in the stack :\" , stack)\n",
        "\n",
        "\n",
        "\n",
        "while True:\n",
        "    print(\"1. Add to stack\")\n",
        "    print(\"2. Delete from stack\")\n",
        "    print(\"3. Display stack\")\n",
        "    print(\"4. Exit\")\n",
        "\n",
        "    choice = input(\"Enter your choice: \")\n",
        "\n",
        "    if choice == '1':\n",
        "        push(stack)\n",
        "    elif choice == '2':\n",
        "        pop()\n",
        "    elif choice == '3':\n",
        "      display()\n",
        "    elif choice == '4':\n",
        "        break\n",
        "    else:\n",
        "        print(\"Invalid choice. Please try again.\")\n",
        "\n"
      ]
    },
    {
      "cell_type": "code",
      "source": [
        "def add_to_stack(stack):\n",
        "    value = input(\"Enter a value to add: \")\n",
        "    stack.append(value)\n",
        "    print(\"Value added to the stack.\")\n",
        "\n",
        "def delete_from_stack(stack):\n",
        "    if len(stack) > 0:\n",
        "        value = stack.pop()\n",
        "        print(\"Deleted value:\", value)\n",
        "    print(\"Stack is empty. No value to delete.\")\n",
        "\n",
        "def display_stack(stack):\n",
        "    if len(stack) > 0:\n",
        "        print(\"Stack contents:\")\n",
        "        for value in stack[::-1]:\n",
        "            print(value)\n",
        "\n",
        "    print(\"Stack is empty.\")\n",
        "\n",
        "def insert_at_top(stack):\n",
        "    value = input(\"Enter a value to insert at the top: \")\n",
        "    stack.insert(0, value)\n",
        "    print(\"Value inserted at the top of the stack.\")\n",
        "\n",
        "def get_stack_size(stack):\n",
        "    print(\"Stack size:\", len(stack))\n",
        "\n",
        "def is_stack_empty(stack):\n",
        "    if len(stack) == 0:\n",
        "        print(\"Stack is empty.\")\n",
        "    print(\"Stack is not empty.\")\n",
        "\n",
        "# Initialize an empty stack\n",
        "stack = []\n",
        "\n",
        "while True:\n",
        "    print(\"1. Add to stack\")\n",
        "    print(\"2. Delete from stack\")\n",
        "    print(\"3. Display stack\")\n",
        "    print(\"4. Insert at top of stack\")\n",
        "    print(\"5. Get stack size\")\n",
        "    print(\"6. Check if stack is empty\")\n",
        "    print(\"7. Exit\")\n",
        "\n",
        "    choice = input(\"Enter your choice: \")\n",
        "\n",
        "    if choice == '1':\n",
        "        add_to_stack(stack)\n",
        "    elif choice == '2':\n",
        "        delete_from_stack(stack)\n",
        "    elif choice == '3':\n",
        "        display_stack(stack)\n",
        "    elif choice == '4':\n",
        "        insert_at_top(stack)\n",
        "    elif choice == '5':\n",
        "        get_stack_size(stack)\n",
        "    elif choice == '6':\n",
        "        is_stack_empty(stack)\n",
        "    elif choice == '7':\n",
        "        break\n",
        "    else:\n",
        "        print(\"Invalid choice. Please try again.\")\n"
      ],
      "metadata": {
        "id": "OWy-_3OWi7D0"
      },
      "execution_count": null,
      "outputs": []
    }
  ]
}