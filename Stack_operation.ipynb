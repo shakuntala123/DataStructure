{
  "cells": [
    {
      "cell_type": "markdown",
      "metadata": {
        "id": "view-in-github",
        "colab_type": "text"
      },
      "source": [
        "<a href=\"https://colab.research.google.com/github/shakuntala123/DataStructure/blob/main/Stack_operation.ipynb\" target=\"_parent\"><img src=\"https://colab.research.google.com/assets/colab-badge.svg\" alt=\"Open In Colab\"/></a>"
      ]
    },
    {
      "cell_type": "code",
      "execution_count": 5,
      "metadata": {
        "colab": {
          "base_uri": "https://localhost:8080/"
        },
        "id": "NxwBxz-ZcspP",
        "outputId": "6cb21c0c-912b-4620-ffa7-53a9d00f850a"
      },
      "outputs": [
        {
          "name": "stdout",
          "output_type": "stream",
          "text": [
            "1. Add to stack\n",
            "2. Delete from stack\n",
            "3. Display stack\n",
            "4. Exit \n",
            " \n",
            "Enter your choice: 1\n",
            "enter the number of element to add on the stack : 4\n",
            "enter the value : 5\n",
            "enter the value : 7\n",
            "enter the value : 8\n",
            "enter the value : 3\n",
            "1. Add to stack\n",
            "2. Delete from stack\n",
            "3. Display stack\n",
            "4. Exit \n",
            " \n",
            "Enter your choice: 2\n",
            "1. Add to stack\n",
            "2. Delete from stack\n",
            "3. Display stack\n",
            "4. Exit \n",
            " \n",
            "Enter your choice: 3\n",
            "Element in the stack : ['5', '7', '8']\n",
            "1. Add to stack\n",
            "2. Delete from stack\n",
            "3. Display stack\n",
            "4. Exit \n",
            " \n",
            "Enter your choice: 4\n"
          ]
        }
      ],
      "source": [
        "\n",
        "\n",
        "stack = []\n",
        "\n",
        "#adding element in the stack\n",
        "def push(value):\n",
        "     t = int(input(\"enter the number of element to add on the stack : \"))\n",
        "     for _ in range(t):\n",
        "         value =input(\"enter the value : \")\n",
        "         stack.append(value)\n",
        "\n",
        "def pop():\n",
        "    if len(stack)< 0:\n",
        "      print(\"stack is empty\")\n",
        "    stack.pop()\n",
        "\n",
        "def display():\n",
        "    if len(stack) < 0 :\n",
        "      print(\"stack is empty\")\n",
        "    print(\"Element in the stack :\" , stack)\n",
        "\n",
        "\n",
        "\n",
        "while True:\n",
        "    print(\"1. Add to stack\")\n",
        "    print(\"2. Delete from stack\")\n",
        "    print(\"3. Display stack\")\n",
        "    print(\"4. Exit \\n \")\n",
        "\n",
        "    choice = input(\"Enter your choice: \")\n",
        "\n",
        "    if choice == '1':\n",
        "        push(stack)\n",
        "    elif choice == '2':\n",
        "        pop()\n",
        "    elif choice == '3':\n",
        "      display()\n",
        "    elif choice == '4':\n",
        "        break\n",
        "    else:\n",
        "        print(\"Invalid choice. Please try again.\")\n",
        "\n"
      ]
    },
    {
      "cell_type": "code",
      "execution_count": 4,
      "metadata": {
        "colab": {
          "base_uri": "https://localhost:8080/"
        },
        "id": "OWy-_3OWi7D0",
        "outputId": "bf4b20bf-01fe-42c9-cc8e-7f63a74aab5d"
      },
      "outputs": [
        {
          "name": "stdout",
          "output_type": "stream",
          "text": [
            "1. Add to stack\n",
            "2. Delete from stack\n",
            "3. Display stack\n",
            "4. Get stack size\n",
            "5. Check if stack is empty\n",
            "6. Exit \n",
            "\n",
            "Enter your choice: 6\n"
          ]
        }
      ],
      "source": [
        "def add_to_stack(stack):\n",
        "    value = input(\"Enter a value to add: \")\n",
        "    stack.append(value)\n",
        "    print(\"Value added to the stack.\")\n",
        "\n",
        "def delete_from_stack(stack):\n",
        "    if len(stack) > 0:\n",
        "        value = stack.pop()\n",
        "        print(\"Deleted value:\", value)\n",
        "    print(\"Stack is empty. No value to delete.\")\n",
        "\n",
        "def display_stack(stack):\n",
        "    if len(stack) > 0:\n",
        "        print(\"Stack contents:\")\n",
        "        for value in stack[::-1]:\n",
        "            print(value)\n",
        "\n",
        "    print(\"Stack is empty.\")\n",
        "\n",
        "\n",
        "\n",
        "def get_stack_size(stack):\n",
        "    print(\"Stack size:\", len(stack))\n",
        "\n",
        "def is_stack_empty(stack):\n",
        "    if len(stack) == 0:\n",
        "        print(\"Stack is empty.\")\n",
        "    print(\"Stack is not empty.\")\n",
        "\n",
        "# Initialize an empty stack\n",
        "stack = []\n",
        "\n",
        "while True:\n",
        "    print(\"1. Add to stack\")\n",
        "    print(\"2. Delete from stack\")\n",
        "    print(\"3. Display stack\")\n",
        "    print(\"4. Get stack size\")\n",
        "    print(\"5. Check if stack is empty\")\n",
        "    print(\"6. Exit \\n\")\n",
        "\n",
        "    choice = input(\"Enter your choice: \")\n",
        "\n",
        "    if choice == '1':\n",
        "        add_to_stack(stack)\n",
        "    elif choice == '2':\n",
        "        delete_from_stack(stack)\n",
        "    elif choice == '3':\n",
        "        display_stack(stack)\n",
        "    elif choice == '4':\n",
        "        get_stack_size(stack)\n",
        "    elif choice == '5':\n",
        "        is_stack_empty(stack)\n",
        "    elif choice == '6':\n",
        "        break\n",
        "    else:\n",
        "        print(\"Invalid choice. Please try again.\")\n"
      ]
    }
  ],
  "metadata": {
    "colab": {
      "provenance": [],
      "authorship_tag": "ABX9TyMXOgDYF1oDRls+F/pGXz+b",
      "include_colab_link": true
    },
    "kernelspec": {
      "display_name": "Python 3",
      "name": "python3"
    },
    "language_info": {
      "name": "python"
    }
  },
  "nbformat": 4,
  "nbformat_minor": 0
}