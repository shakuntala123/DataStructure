{
  "nbformat": 4,
  "nbformat_minor": 0,
  "metadata": {
    "colab": {
      "provenance": [],
      "authorship_tag": "ABX9TyNloOwpN3OQBuW4PS8ar87E",
      "include_colab_link": true
    },
    "kernelspec": {
      "name": "python3",
      "display_name": "Python 3"
    },
    "language_info": {
      "name": "python"
    }
  },
  "cells": [
    {
      "cell_type": "markdown",
      "metadata": {
        "id": "view-in-github",
        "colab_type": "text"
      },
      "source": [
        "<a href=\"https://colab.research.google.com/github/shakuntala123/DataStructure/blob/main/Simple%20Text%20Editor.ipynb\" target=\"_parent\"><img src=\"https://colab.research.google.com/assets/colab-badge.svg\" alt=\"Open In Colab\"/></a>"
      ]
    },
    {
      "cell_type": "code",
      "execution_count": 5,
      "metadata": {
        "colab": {
          "base_uri": "https://localhost:8080/"
        },
        "id": "dvgWBCt4qfTp",
        "outputId": "637b5c0d-cea4-4de5-928a-f329ee376f01"
      },
      "outputs": [
        {
          "output_type": "stream",
          "name": "stdout",
          "text": [
            "Enter the number of operations: 5\n",
            "1 dfghjkl\n",
            "2 3\n",
            "3 4\n",
            "h\n",
            "4 2\n",
            "3 3\n",
            "g\n"
          ]
        }
      ],
      "source": [
        "class TextEditor:\n",
        "    def __init__(self):\n",
        "        self.text = \"\"\n",
        "        self.stack = []\n",
        "\n",
        "    def append(self, string):\n",
        "        self.stack.append(self.text)\n",
        "        self.text += string\n",
        "\n",
        "    def delete(self, k):\n",
        "        self.stack.append(self.text)\n",
        "        self.text = self.text[:-k]\n",
        "\n",
        "    def print(self, k):\n",
        "        print(self.text[k - 1])\n",
        "\n",
        "    def undo(self):\n",
        "        if self.stack:\n",
        "            self.text = self.stack.pop()\n",
        "\n",
        "\n",
        "def main():\n",
        "    editor = TextEditor()\n",
        "\n",
        "    q = int(input(\"Enter the number of operations: \"))\n",
        "    for _ in range(q):\n",
        "        operation = input().split()\n",
        "\n",
        "        if operation[0] == \"1\":\n",
        "            editor.append(operation[1])\n",
        "        elif operation[0] == \"2\":\n",
        "            editor.delete(int(operation[1]))\n",
        "        elif operation[0] == \"3\":\n",
        "            editor.print(int(operation[1]))\n",
        "        elif operation[0] == \"4\":\n",
        "            editor.undo()\n",
        "\n",
        "\n",
        "if __name__ == \"__main__\":\n",
        "    main()\n"
      ]
    }
  ]
}